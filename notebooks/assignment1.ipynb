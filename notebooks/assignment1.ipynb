{
 "cells": [
  {
   "cell_type": "markdown",
   "id": "fcc83a81-6968-4465-9b07-6d439555f6e3",
   "metadata": {},
   "source": [
    "# Assignment 1"
   ]
  },
  {
   "cell_type": "code",
   "execution_count": 16,
   "id": "cb1f2e95-7419-40c1-b59a-4fd07ca405e3",
   "metadata": {},
   "outputs": [
    {
     "name": "stdout",
     "output_type": "stream",
     "text": [
      "The first example is an input of 1.2, which has an absolute value greater than 1. Output of summation(1.2) is below:\n",
      "Error: |x| must be less than 1.\n",
      "The first example is a string input, which is not a float or int. Output of summation('hello world') is below:\n",
      "Error: Input must be a number.\n",
      "Summation for x = 0.7 is approximately: 1.3724201718385027\n"
     ]
    }
   ],
   "source": [
    "# Question 2\n",
    "\n",
    "def summation(x, tolerance=10e-5):\n",
    "    if not isinstance(x, (float, int)):\n",
    "        print(\"Error: Input must be a number.\")\n",
    "        return None\n",
    "\n",
    "    if abs(x) >= 1:\n",
    "        print(\"Error: |x| must be less than 1.\")\n",
    "        return None\n",
    "\n",
    "    n = 0\n",
    "    term = x\n",
    "    sum_value = term\n",
    "    error = abs(term)\n",
    "\n",
    "    while error > tolerance:\n",
    "        n += 1\n",
    "        term = x**(2*n + 1)\n",
    "        sum_value += term\n",
    "        error = abs(term/sum_value)\n",
    "\n",
    "    return sum_value\n",
    "\n",
    "# Example test cases\n",
    "\n",
    "# Stuff that'd break it\n",
    "print('The first example is an input of 1.2, which has an absolute value greater than 1. Output of summation(1.2) is below:')\n",
    "summation(1.2)\n",
    "print('The first example is a string input, which is not a float or int. Output of summation(\\'hello world\\') is below:')\n",
    "summation('hello world')\n",
    "\n",
    "# Working\n",
    "x = 0.7\n",
    "result = summation(x)\n",
    "print(f\"Summation for x = {x} is approximately: {result}\")"
   ]
  },
  {
   "cell_type": "code",
   "execution_count": null,
   "id": "c99366c2-ceb3-4d8c-a09e-eaa27b1efe75",
   "metadata": {},
   "outputs": [],
   "source": []
  }
 ],
 "metadata": {
  "kernelspec": {
   "display_name": "Python 3 (ipykernel)",
   "language": "python",
   "name": "python3"
  },
  "language_info": {
   "codemirror_mode": {
    "name": "ipython",
    "version": 3
   },
   "file_extension": ".py",
   "mimetype": "text/x-python",
   "name": "python",
   "nbconvert_exporter": "python",
   "pygments_lexer": "ipython3",
   "version": "3.12.2"
  }
 },
 "nbformat": 4,
 "nbformat_minor": 5
}
