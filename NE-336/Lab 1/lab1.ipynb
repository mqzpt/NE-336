{
 "cells": [
  {
   "cell_type": "code",
   "execution_count": 1,
   "id": "20ae811d-db68-4197-b48d-2ea029e098c9",
   "metadata": {},
   "outputs": [],
   "source": [
    "import numpy as np"
   ]
  },
  {
   "cell_type": "code",
   "execution_count": null,
   "id": "b35b716d-7faa-47e1-80ec-126a3bf00d1f",
   "metadata": {},
   "outputs": [],
   "source": [
    "np.polyval("
   ]
  },
  {
   "cell_type": "code",
   "execution_count": 2,
   "id": "2f9f8045-3126-4c39-8c31-815a00aefc48",
   "metadata": {},
   "outputs": [
    {
     "ename": "SyntaxError",
     "evalue": "incomplete input (3722884082.py, line 31)",
     "output_type": "error",
     "traceback": [
      "\u001b[0;36m  Cell \u001b[0;32mIn[2], line 31\u001b[0;36m\u001b[0m\n\u001b[0;31m    \u001b[0m\n\u001b[0m    ^\u001b[0m\n\u001b[0;31mSyntaxError\u001b[0m\u001b[0;31m:\u001b[0m incomplete input\n"
     ]
    }
   ],
   "source": [
    "# Bisection Method\n",
    "\n",
    "#once you have completed your scheme.py file, include it in the same path as\n",
    "#mybisection.py so that the following line \n",
    "from scheme import mypolyval\n",
    "#would import the horner scheme solution function so we can use it in this file\n",
    "\n",
    "#also import the bisection method from scipy for testing \n",
    "from scipy.optimize import bisect \n",
    "\n",
    "#import sign from numpy, we dont need any other function from it!\n",
    "from numpy import sign\n",
    "\n",
    "#now for bisection\n",
    "def bisection(polyf, xl, xu):\n",
    "\t'''\n",
    "\t(list,float,float)->float\n",
    "\tThis function finds a root xroot for the function polyf\n",
    "\tbetween xl and xu using the bisection method.\n",
    "\tinputs : polyf function to find roots for\n",
    "\txl lower bound of interval\n",
    "\txu upper bound of interval\n",
    "\toutput : xroot root of the function\n",
    "\t'''\n",
    "\tpass #remove this and start writing the function\n",
    "\n",
    "\n",
    "if __name__==\"__main__\":\n",
    "    \n",
    "\t#test your function here"
   ]
  },
  {
   "cell_type": "code",
   "execution_count": null,
   "id": "45140586-432e-4e21-9edf-5b68681fc3b5",
   "metadata": {},
   "outputs": [],
   "source": [
    "# Scheme Template\n",
    "\n",
    "from numpy.polynomial import Polynomial\n",
    "\n",
    "\n",
    "#the function\n",
    "def mypolyval(p,x):\n",
    "\t'''\n",
    "\t(list,float)-> float\n",
    "\tfunction to evaluate a polynomial p at x.\n",
    "\t'''\n",
    "\tpass\n",
    "\t\n",
    "\n",
    "if __name__==\"__main__\":\n",
    "    \n",
    "\t#test your function here\n",
    "\t#you could start with testing it for 20x**4+13x**3-2x**2+4"
   ]
  },
  {
   "cell_type": "code",
   "execution_count": 3,
   "id": "0572ed4e-e6e4-418f-b87a-c3585783d4c8",
   "metadata": {},
   "outputs": [
    {
     "name": "stdout",
     "output_type": "stream",
     "text": [
      "True\n",
      "the roots of -2.0 - 1.0·x + 1.0·x² are [-1.  2.]\n",
      "the the value of -2.0 - 1.0·x + 1.0·x² at x=0 is -2.0\n"
     ]
    }
   ],
   "source": [
    "# Polynomial\n",
    "\n",
    "#lets import the Polynomial class for brevity \n",
    "from numpy.polynomial import Polynomial\n",
    "\n",
    "#note that the coefficients in the series go from degree zero upwards\n",
    "#so coeff[i] is for the term of degree i\n",
    "#ax^2+bx+c is [c,b,a]\n",
    "\n",
    "a=1\n",
    "b=-1\n",
    "c=-2\n",
    "#creating polynomial \n",
    "\n",
    "#create polynomial from coefficients \n",
    "poly_1 = Polynomial([c,b,a])\n",
    "\n",
    "#create polynomial from roots\n",
    "poly_2 = Polynomial.fromroots([-1,2])\n",
    "\n",
    "#are they the same?\n",
    "print(poly_1==poly_2)\n",
    "\n",
    "#find the roots of the first one\n",
    "roots_poly_1=poly_1.roots()\n",
    "\n",
    "print(f\"the roots of {poly_1} are {roots_poly_1}\")#formatted string print!\n",
    "\n",
    "#evaluating a polynomial object is easy!\n",
    "x=0\n",
    "print(f\"the the value of {poly_1} at x={x} is {poly_1(x)}\")"
   ]
  },
  {
   "cell_type": "code",
   "execution_count": null,
   "id": "3b3b43b6-d255-4de7-9f61-10d8f93b262f",
   "metadata": {},
   "outputs": [],
   "source": []
  }
 ],
 "metadata": {
  "kernelspec": {
   "display_name": "Python 3 (ipykernel)",
   "language": "python",
   "name": "python3"
  },
  "language_info": {
   "codemirror_mode": {
    "name": "ipython",
    "version": 3
   },
   "file_extension": ".py",
   "mimetype": "text/x-python",
   "name": "python",
   "nbconvert_exporter": "python",
   "pygments_lexer": "ipython3",
   "version": "3.12.2"
  },
  "vscode": {
   "interpreter": {
    "hash": "0293a4a8fa9c8311fdcc61f46833fe192c82369fb58e7858682acb1c714172f5"
   }
  }
 },
 "nbformat": 4,
 "nbformat_minor": 5
}
