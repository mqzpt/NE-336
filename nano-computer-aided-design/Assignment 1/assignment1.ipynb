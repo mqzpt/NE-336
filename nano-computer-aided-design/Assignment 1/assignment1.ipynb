{
 "cells": [
  {
   "cell_type": "markdown",
   "id": "fcc83a81-6968-4465-9b07-6d439555f6e3",
   "metadata": {},
   "source": [
    "# Assignment 1"
   ]
  },
  {
   "cell_type": "code",
   "execution_count": 1,
   "id": "cb1f2e95-7419-40c1-b59a-4fd07ca405e3",
   "metadata": {},
   "outputs": [
    {
     "name": "stdout",
     "output_type": "stream",
     "text": [
      "Testing Invalid Inputs:\n",
      "\n",
      "The first example is an input of 1.2, which has an absolute value greater than 1. Output of summation(1.2) is below:\n",
      "Error: |x| must be less than 1.\n",
      "\n",
      "The first example is a string input, which is not a float or int. Output of summation('hello world') is below:\n",
      "Error: Input must be a number.\n",
      "\n",
      "Testing valid case:\n",
      "Summation for x = 0.7 is approximately: 1.3725415917903474\n"
     ]
    }
   ],
   "source": [
    "# Assignment 1 - Question 2\n",
    "# Matthew Athanasopoulos\n",
    "\n",
    "def summation(x, tolerance=1e-5):\n",
    "    \"\"\"\n",
    "    Evaluates the infinite series sum for f(x) = sum(x^(2n+1)) from n = 0 to infinity,\n",
    "    which is valid for |x| < 1.\n",
    "\n",
    "    This function calculates the summation iteratively until the absolute approximate \n",
    "    relative error is smaller than the specified tolerance.\n",
    "\n",
    "    Parameters:\n",
    "    x (float): The input value for which the series is to be evaluated. Must satisfy |x| < 1.\n",
    "    tolerance (float, optional): The tolerance for the approximate relative error. Defaults to 1e-5.\n",
    "\n",
    "    Returns:\n",
    "    float: The calculated sum of the series if input is valid.\n",
    "    None: If the input is invalid (either not a number or |x| >= 1), returns None and prints an error message.\n",
    "    \"\"\"\n",
    "\n",
    "    # Check if input is a number\n",
    "    if not isinstance(x, (float, int)):\n",
    "        print(\"Error: Input must be a number.\")\n",
    "        return None\n",
    "\n",
    "    # Check if |x| < 1\n",
    "    if abs(x) >= 1:\n",
    "        print(\"Error: |x| must be less than 1.\")\n",
    "        return None\n",
    "\n",
    "    # Initialize variables\n",
    "    n = 0\n",
    "    term = x  # First term of the series is x^1\n",
    "    sum_value = term\n",
    "    error = abs(term)\n",
    "\n",
    "    # Summation loop with approximate relative error check\n",
    "    while error > tolerance:\n",
    "        n += 1\n",
    "        term = x**(2*n + 1)  # Update term to x^(2n+1)\n",
    "        sum_value += term\n",
    "        # Calculate absolute error (error in current term)\n",
    "        error = abs(term/sum_value)\n",
    "\n",
    "    return sum_value\n",
    "\n",
    "# Example test cases\n",
    "\n",
    "\n",
    "# Testing Invalid Inputs\n",
    "print('Testing Invalid Inputs:')\n",
    "print('\\nThe first example is an input of 1.2, which has an absolute value greater than 1. Output of summation(1.2) is below:')\n",
    "summation(1.2)\n",
    "print('\\nThe first example is a string input, which is not a float or int. Output of summation(\\'hello world\\') is below:')\n",
    "summation('hello world')\n",
    "\n",
    "# Testing Valid Inputs\n",
    "print(\"\\nTesting valid case:\")\n",
    "x = 0.7\n",
    "result = summation(x)\n",
    "print(f\"\\nSummation for x = {x} is approximately: {result}\")\n"
   ]
  }
 ],
 "metadata": {
  "kernelspec": {
   "display_name": "Python 3 (ipykernel)",
   "language": "python",
   "name": "python3"
  },
  "language_info": {
   "codemirror_mode": {
    "name": "ipython",
    "version": 3
   },
   "file_extension": ".py",
   "mimetype": "text/x-python",
   "name": "python",
   "nbconvert_exporter": "python",
   "pygments_lexer": "ipython3",
   "version": "3.12.2"
  },
  "vscode": {
   "interpreter": {
    "hash": "aee8b7b246df8f9039afb4144a1f6fd8d2ca17a180786b69acc140d282b71a49"
   }
  }
 },
 "nbformat": 4,
 "nbformat_minor": 5
}
