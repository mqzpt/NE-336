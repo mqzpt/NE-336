{
 "cells": [
  {
   "cell_type": "markdown",
   "id": "c324e388-d889-42d5-ae72-da831a486944",
   "metadata": {},
   "source": [
    "# NE336 Lecture 1 Notes\n",
    "#### September 4th 2024 - Matthew Athanasopoulos"
   ]
  },
  {
   "cell_type": "code",
   "execution_count": 1,
   "id": "f953546b-915d-404c-9e02-9bdafc4c3bc0",
   "metadata": {},
   "outputs": [],
   "source": [
    "import numpy as np\n",
    "import scipy as sp\n",
    "import matplotlib.pyplot as plt"
   ]
  },
  {
   "cell_type": "code",
   "execution_count": 47,
   "id": "01b45826-e8a6-4db5-ba23-9c78fcec3b67",
   "metadata": {},
   "outputs": [
    {
     "data": {
      "text/plain": [
       "Text(0.5, 1.0, 'Plot of $5x-12sin^2 x-18$')"
      ]
     },
     "execution_count": 47,
     "metadata": {},
     "output_type": "execute_result"
    },
    {
     "data": {
      "image/png": "[encoded data removed]",
      "text/plain": [
       "<Figure size 640x480 with 1 Axes>"
      ]
     },
     "metadata": {},
     "output_type": "display_data"
    }
   ],
   "source": [
    "# How do we find roots? Firstly plotting helps!\n",
    "\n",
    "f = lambda x: 5*x + 12*np.sin(x)**2 - 18\n",
    "xvals = np.linspace(0, 2*np.pi)\n",
    "plt.figure()\n",
    "plt.plot(xvals, f(xvals))\n",
    "plt.plot(xvals, np.zeros(xvals.size), 'r--')\n",
    "plt.xlabel('x')\n",
    "plt.title('Plot of $5x-12sin^2 x-18$')"
   ]
  },
  {
   "cell_type": "markdown",
   "id": "9b6f7ddb-e4be-41a0-b654-afbd7fb7ae82",
   "metadata": {},
   "source": [
    "### Floating Point Numbers\n",
    "#### Double Precision will occupy 53-bits for the mantissa and 11-bits for the exponent. There is a bit allocated to the sign (+/-) in both the mantissa and exponent.\n",
    "#### The machine episilon (ε) is the smallest number that will change a number (x) if you add ε to it. For a 52-bit mantissa, ε will be equal to $1/2^{52}$, as the final bit will flip or the last two bits will flip, depending on if the final bit is 0 or 1 respectively.\n",
    "#### The largest value that can be represented with double precision is about $1.8^{308}$. This is obtained from a mantissa of all 1s and an exponent of 1023 (equal to $2^{10}$ − 1). If you're wondering why we use that number, it's because 0 is included, and because the 11th bit is allocated to the sign of the exponent. Our machine epsilon is $1/2^{52}$, which is roughly equal to $2.22 \\times 10^{-16}$"
   ]
  },
  {
   "cell_type": "code",
   "execution_count": 48,
   "id": "c3ce4fd0-2687-438c-bff4-60db9471202e",
   "metadata": {},
   "outputs": [
    {
     "data": {
      "text/plain": [
       "1.7976931348623157e+308"
      ]
     },
     "execution_count": 48,
     "metadata": {},
     "output_type": "execute_result"
    }
   ],
   "source": [
    "# We show the greatest digit we can represent with a 52-bit mantissa and an 11-bit exponent\n",
    "s = 0\n",
    "for i in range(1, 53):\n",
    "    s += 2**(-i)\n",
    "    \n",
    "(1+s) * 2**1023"
   ]
  },
  {
   "cell_type": "markdown",
   "id": "3cae4f30-93d0-4dab-8f7c-ec632485f84a",
   "metadata": {},
   "source": [
    "#### The next largest representable number is the same, except the last bit in the mantissa will flip from 1 to 0. We can find the difference (d) between the largest and next-largest value that can be represented with double-precision as follows:"
   ]
  },
  {
   "cell_type": "code",
   "execution_count": 49,
   "id": "c9fdfcf6-6ac1-48d9-b531-46d30fc58f76",
   "metadata": {},
   "outputs": [
    {
     "name": "stdout",
     "output_type": "stream",
     "text": [
      "The greatest value we can represent is 1.7976931348623157e+308\n",
      "\n",
      "The second greatest value (for loop method) we can represent is 1.7976931348623155e+308\n",
      "The second greatest value (subtraction method) we can represent is 1.7976931348623157e+308\n",
      "\n",
      "The difference between these values (d) is 1.99584030953472e+292\n"
     ]
    }
   ],
   "source": [
    "# We've already calculated the value of the greatest value (same as above)\n",
    "\n",
    "print(f'The greatest value we can represent is {(1+s) * 2**1023}')\n",
    "\n",
    "# The mantissa for the second greatest value will be all ones in except one zero in the last position\n",
    "# We could calculate this similar to the previous approach as follows:\n",
    "\n",
    "t = 0\n",
    "for i in range(1, 52):\n",
    "    t += 2**(-i)\n",
    "\n",
    "print()\n",
    "print(f'The second greatest value (for loop method) we can represent is {(1+t) * 2**1023}')\n",
    "\n",
    "# ALternatively, we know the second biggest number will be 2^-52 less\n",
    "\n",
    "print(f'The second greatest value (subtraction method) we can represent is {(1+s) * 2**1023 - 10*-52}')\n",
    "print()\n",
    "print(f'The difference between these values (d) is {((1+s) * 2**1023) - ((1+t) * 2**1023)}')"
   ]
  },
  {
   "cell_type": "markdown",
   "id": "45b11e2f-2060-4cbb-beb7-249af285b74c",
   "metadata": {},
   "source": [
    "#### That's a pretty big difference! It's much bigger than the machine epsilon ($2.22 \\times 10^{-16}$). There are a fixed number of steps for each value of the exponent, so the steps will get bigger as the exponent gets bigger."
   ]
  },
  {
   "cell_type": "markdown",
   "id": "1515ef87-886d-447d-b71b-71ca27a8c0d5",
   "metadata": {},
   "source": [
    "### Arithmetic Operations\n",
    "\n",
    "#### If the exponents of two numbers are different, we will lose precision with doing operations with them together since the mantissa must be of fixed length (after the exponents are made equal). Signifcant digits are lost, and it's even possible to lose all the significant digits if the magnitudes of the numbers are vastly different. If this happens, it's called a \"Catastrophic rounding error\""
   ]
  },
  {
   "cell_type": "code",
   "execution_count": 50,
   "id": "c3fd9944-c0dc-4c74-980b-4b50e2a62d85",
   "metadata": {},
   "outputs": [
    {
     "data": {
      "text/plain": [
       "2.8000000000000003"
      ]
     },
     "execution_count": 50,
     "metadata": {},
     "output_type": "execute_result"
    }
   ],
   "source": [
    "# Example of a Rounding Error\n",
    "\n",
    "x = 2.6\n",
    "x = x + 0.2\n",
    "x"
   ]
  },
  {
   "cell_type": "markdown",
   "id": "01d52c35-a023-4713-a3cd-eaf5936ae19e",
   "metadata": {},
   "source": [
    "#### This may seem small, but errors may accumulate over repeated operations! These are not random!"
   ]
  }
 ],
 "metadata": {
  "kernelspec": {
   "display_name": "Python 3 (ipykernel)",
   "language": "python",
   "name": "python3"
  },
  "language_info": {
   "codemirror_mode": {
    "name": "ipython",
    "version": 3
   },
   "file_extension": ".py",
   "mimetype": "text/x-python",
   "name": "python",
   "nbconvert_exporter": "python",
   "pygments_lexer": "ipython3",
   "version": "3.12.2"
  }
 },
 "nbformat": 4,
 "nbformat_minor": 5
}
